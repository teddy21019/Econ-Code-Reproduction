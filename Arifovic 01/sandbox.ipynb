{
 "cells": [
  {
   "cell_type": "code",
   "execution_count": 14,
   "metadata": {},
   "outputs": [],
   "source": [
    "import numpy as np\n",
    "import random\n",
    "from src.genetic import AGene, EvaluableGene, AGeneticAlgorithm"
   ]
  },
  {
   "cell_type": "code",
   "execution_count": 56,
   "metadata": {},
   "outputs": [],
   "source": [
    "from collections import deque, OrderedDict\n",
    "from typing import Deque, Dict\n",
    "\n",
    "from mesa import Agent, Model\n",
    "\n",
    "m = Model()\n",
    "\n",
    "\n",
    "Generation = Deque[Dict[int, Agent]]\n",
    "\n",
    "generations : Generation  = deque(maxlen=2)"
   ]
  },
  {
   "cell_type": "code",
   "execution_count": 57,
   "metadata": {},
   "outputs": [],
   "source": [
    "od1 = {}\n",
    "for i in range(10):\n",
    "    od1[i] = Agent(i, model=m)\n",
    "\n",
    "od2 = {}\n",
    "for i in range(10,20):\n",
    "    od2[i] = Agent(i, m)"
   ]
  },
  {
   "cell_type": "code",
   "execution_count": 59,
   "metadata": {},
   "outputs": [],
   "source": [
    "generations.append(od1)\n",
    "generations.append(od2)"
   ]
  },
  {
   "cell_type": "code",
   "execution_count": 65,
   "metadata": {},
   "outputs": [
    {
     "name": "stdout",
     "output_type": "stream",
     "text": [
      "0 {0: <mesa.agent.Agent object at 0x0000018937C03220>, 1: <mesa.agent.Agent object at 0x0000018937E8AEE0>, 2: <mesa.agent.Agent object at 0x0000018937BF8370>, 3: <mesa.agent.Agent object at 0x0000018937BF8250>, 4: <mesa.agent.Agent object at 0x0000018937BF8DF0>, 5: <mesa.agent.Agent object at 0x0000018937BF8580>, 6: <mesa.agent.Agent object at 0x0000018937BF8DC0>, 7: <mesa.agent.Agent object at 0x0000018937BF8D90>, 8: <mesa.agent.Agent object at 0x0000018937EA07C0>, 9: <mesa.agent.Agent object at 0x0000018937EA0F40>}\n",
      "1 {10: <mesa.agent.Agent object at 0x0000018937BF84C0>, 11: <mesa.agent.Agent object at 0x0000018937C03400>, 12: <mesa.agent.Agent object at 0x0000018937EA0DC0>, 13: <mesa.agent.Agent object at 0x0000018937EA0760>, 14: <mesa.agent.Agent object at 0x0000018937EA0700>, 15: <mesa.agent.Agent object at 0x0000018937EA06A0>, 16: <mesa.agent.Agent object at 0x0000018937EA0640>, 17: <mesa.agent.Agent object at 0x0000018937EA05E0>, 18: <mesa.agent.Agent object at 0x0000018937EA0580>, 19: <mesa.agent.Agent object at 0x0000018937EA04C0>}\n"
     ]
    }
   ],
   "source": [
    "for i,g in enumerate(generations):\n",
    "    print(i, g)"
   ]
  },
  {
   "cell_type": "code",
   "execution_count": 43,
   "metadata": {},
   "outputs": [],
   "source": [
    "generations[0][100] = Agent(100, m)"
   ]
  },
  {
   "cell_type": "code",
   "execution_count": 44,
   "metadata": {},
   "outputs": [
    {
     "data": {
      "text/plain": [
       "deque([{0: <mesa.agent.Agent at 0x18937c03220>,\n",
       "        1: <mesa.agent.Agent at 0x18937c03e20>,\n",
       "        2: <mesa.agent.Agent at 0x18937bf81f0>,\n",
       "        3: <mesa.agent.Agent at 0x18937bf84c0>,\n",
       "        4: <mesa.agent.Agent at 0x18937bf8df0>,\n",
       "        5: <mesa.agent.Agent at 0x18937bf8580>,\n",
       "        6: <mesa.agent.Agent at 0x18937bf8f40>,\n",
       "        7: <mesa.agent.Agent at 0x18937bf8730>,\n",
       "        8: <mesa.agent.Agent at 0x18937bf8040>,\n",
       "        9: <mesa.agent.Agent at 0x18937bf86d0>,\n",
       "        100: <mesa.agent.Agent at 0x18937e8aa00>},\n",
       "       {10: <mesa.agent.Agent at 0x18937bc49d0>,\n",
       "        11: <mesa.agent.Agent at 0x18937e8abe0>,\n",
       "        12: <mesa.agent.Agent at 0x18937e8ac70>,\n",
       "        13: <mesa.agent.Agent at 0x18937e8adc0>,\n",
       "        14: <mesa.agent.Agent at 0x18937e8aaf0>,\n",
       "        15: <mesa.agent.Agent at 0x18937e8ad90>,\n",
       "        16: <mesa.agent.Agent at 0x18937e8ac40>,\n",
       "        17: <mesa.agent.Agent at 0x18937e8afa0>,\n",
       "        18: <mesa.agent.Agent at 0x18937e8ad60>,\n",
       "        19: <mesa.agent.Agent at 0x18937e8af10>}],\n",
       "      maxlen=2)"
      ]
     },
     "execution_count": 44,
     "metadata": {},
     "output_type": "execute_result"
    }
   ],
   "source": [
    "generations"
   ]
  },
  {
   "cell_type": "code",
   "execution_count": 45,
   "metadata": {},
   "outputs": [],
   "source": [
    "od3 = {}\n",
    "for i in range(20,30):\n",
    "    od3[i] = Agent(i, m)\n",
    "\n"
   ]
  },
  {
   "cell_type": "code",
   "execution_count": 46,
   "metadata": {},
   "outputs": [],
   "source": [
    "generations.append(od3)"
   ]
  },
  {
   "cell_type": "code",
   "execution_count": 47,
   "metadata": {},
   "outputs": [
    {
     "data": {
      "text/plain": [
       "deque([{10: <mesa.agent.Agent at 0x18937bc49d0>,\n",
       "        11: <mesa.agent.Agent at 0x18937e8abe0>,\n",
       "        12: <mesa.agent.Agent at 0x18937e8ac70>,\n",
       "        13: <mesa.agent.Agent at 0x18937e8adc0>,\n",
       "        14: <mesa.agent.Agent at 0x18937e8aaf0>,\n",
       "        15: <mesa.agent.Agent at 0x18937e8ad90>,\n",
       "        16: <mesa.agent.Agent at 0x18937e8ac40>,\n",
       "        17: <mesa.agent.Agent at 0x18937e8afa0>,\n",
       "        18: <mesa.agent.Agent at 0x18937e8ad60>,\n",
       "        19: <mesa.agent.Agent at 0x18937e8af10>},\n",
       "       {20: <mesa.agent.Agent at 0x18937e8a5b0>,\n",
       "        21: <mesa.agent.Agent at 0x1891706cfa0>,\n",
       "        22: <mesa.agent.Agent at 0x1891705ec10>,\n",
       "        23: <mesa.agent.Agent at 0x1891705ea00>,\n",
       "        24: <mesa.agent.Agent at 0x18937c03940>,\n",
       "        25: <mesa.agent.Agent at 0x18937c033d0>,\n",
       "        26: <mesa.agent.Agent at 0x18937c03dc0>,\n",
       "        27: <mesa.agent.Agent at 0x18937c037c0>,\n",
       "        28: <mesa.agent.Agent at 0x18937c03cd0>,\n",
       "        29: <mesa.agent.Agent at 0x18937c03250>}],\n",
       "      maxlen=2)"
      ]
     },
     "execution_count": 47,
     "metadata": {},
     "output_type": "execute_result"
    }
   ],
   "source": [
    "generations"
   ]
  },
  {
   "cell_type": "code",
   "execution_count": 52,
   "metadata": {},
   "outputs": [
    {
     "data": {
      "text/plain": [
       "[17, 15, 11, 13, 18, 12, 16, 19, 10, 14]"
      ]
     },
     "execution_count": 52,
     "metadata": {},
     "output_type": "execute_result"
    }
   ],
   "source": [
    "import random\n",
    "\n",
    "dict_key_gen = list(generations[0].keys())\n",
    "random.shuffle(dict_key_gen)\n",
    "\n",
    "dict_key_gen"
   ]
  },
  {
   "cell_type": "code",
   "execution_count": null,
   "metadata": {},
   "outputs": [],
   "source": []
  }
 ],
 "metadata": {
  "kernelspec": {
   "display_name": "mesa",
   "language": "python",
   "name": "python3"
  },
  "language_info": {
   "codemirror_mode": {
    "name": "ipython",
    "version": 3
   },
   "file_extension": ".py",
   "mimetype": "text/x-python",
   "name": "python",
   "nbconvert_exporter": "python",
   "pygments_lexer": "ipython3",
   "version": "3.8.13"
  },
  "orig_nbformat": 4,
  "vscode": {
   "interpreter": {
    "hash": "6d99b58bf08b42ea917d80edb246878b8ac82ec1d45c1c04922147cbb3514f4b"
   }
  }
 },
 "nbformat": 4,
 "nbformat_minor": 2
}
