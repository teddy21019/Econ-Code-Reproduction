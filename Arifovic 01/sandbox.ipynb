{
 "cells": [
  {
   "cell_type": "code",
   "execution_count": 1,
   "metadata": {},
   "outputs": [],
   "source": [
    "import numpy as np\n",
    "import random\n",
    "from src.genetic import AGene, EvaluableGene, AGeneticAlgorithm\n",
    "from src.model import *\n",
    "from mesa.time import RandomActivation"
   ]
  },
  {
   "cell_type": "code",
   "execution_count": 2,
   "metadata": {},
   "outputs": [],
   "source": [
    "ga = AGeneticAlgorithm(p_cross=0.6, p_mut=0.33)\n",
    "\n",
    "abm_schedular = RandomActivation\n",
    "\n",
    "model = CurrencySubstitutionModel(\n",
    "            genetic_algo_class  =   ga, \n",
    "            n_agents            =   30,\n",
    "            G_1                 =   10,\n",
    "            G_2                 =   1,\n",
    "            scheduler_constructor =   abm_schedular)"
   ]
  },
  {
   "cell_type": "code",
   "execution_count": 4,
   "metadata": {},
   "outputs": [
    {
     "name": "stderr",
     "output_type": "stream",
     "text": [
      " 68%|██████▊   | 680/1000 [00:02<00:00, 337.64it/s]"
     ]
    },
    {
     "name": "stdout",
     "output_type": "stream",
     "text": [
      "4.999995231628418 -2.377997650361552e-06\n"
     ]
    },
    {
     "name": "stderr",
     "output_type": "stream",
     "text": [
      " 69%|██████▉   | 693/1000 [02:31<01:07,  4.57it/s] "
     ]
    },
    {
     "name": "stdout",
     "output_type": "stream",
     "text": [
      "[ True  True  True  True  True  True  True  True  True  True  True  True\n",
      "  True  True  True  True  True  True  True  True False False False False\n",
      " False False False False False  True]\n"
     ]
    },
    {
     "name": "stderr",
     "output_type": "stream",
     "text": [
      "\n"
     ]
    },
    {
     "ename": "ValueError",
     "evalue": "Consumption cannot take log.",
     "output_type": "error",
     "traceback": [
      "\u001b[1;31m---------------------------------------------------------------------------\u001b[0m",
      "\u001b[1;31mValueError\u001b[0m                                Traceback (most recent call last)",
      "File \u001b[1;32mc:\\Users\\tedb0\\Documents\\Code\\Econ Code Reproduction\\Arifovic 01\\src\\agents.py:88\u001b[0m, in \u001b[0;36mGA_Agent._evaluate\u001b[1;34m(self)\u001b[0m\n\u001b[0;32m     87\u001b[0m \u001b[39mtry\u001b[39;00m:\n\u001b[1;32m---> 88\u001b[0m     \u001b[39mreturn\u001b[39;00m math\u001b[39m.\u001b[39mlog(\u001b[39mself\u001b[39m\u001b[39m.\u001b[39mconsumption_1) \u001b[39m+\u001b[39m math\u001b[39m.\u001b[39;49mlog(\u001b[39mself\u001b[39;49m\u001b[39m.\u001b[39;49mconsumption_2)\n\u001b[0;32m     89\u001b[0m \u001b[39mexcept\u001b[39;00m \u001b[39mAttributeError\u001b[39;00m:\n",
      "\u001b[1;31mValueError\u001b[0m: math domain error",
      "\nDuring handling of the above exception, another exception occurred:\n",
      "\u001b[1;31mValueError\u001b[0m                                Traceback (most recent call last)",
      "Cell \u001b[1;32mIn[4], line 5\u001b[0m\n\u001b[0;32m      1\u001b[0m \u001b[39mfrom\u001b[39;00m \u001b[39mtqdm\u001b[39;00m \u001b[39mimport\u001b[39;00m tqdm\n\u001b[0;32m      4\u001b[0m \u001b[39mfor\u001b[39;00m _ \u001b[39min\u001b[39;00m tqdm(\u001b[39mrange\u001b[39m(\u001b[39m1000\u001b[39m)):\n\u001b[1;32m----> 5\u001b[0m     model\u001b[39m.\u001b[39;49mstep()\n",
      "File \u001b[1;32mc:\\Users\\tedb0\\Documents\\Code\\Econ Code Reproduction\\Arifovic 01\\src\\model.py:126\u001b[0m, in \u001b[0;36mCurrencySubstitutionModel.step\u001b[1;34m(self)\u001b[0m\n\u001b[0;32m    122\u001b[0m \u001b[39mself\u001b[39m\u001b[39m.\u001b[39mgeneration_list[\u001b[39m1\u001b[39m]\u001b[39m.\u001b[39mstep()\n\u001b[0;32m    124\u001b[0m \u001b[39m## at this time, the old agent should already evaluate its fitness \u001b[39;00m\n\u001b[1;32m--> 126\u001b[0m gene_pool: List[EvaluableGene]\u001b[39m=\u001b[39m \u001b[39mself\u001b[39;49m\u001b[39m.\u001b[39;49mevolve()\n\u001b[0;32m    128\u001b[0m \u001b[39mself\u001b[39m\u001b[39m.\u001b[39mnew_generation(gene_pool\u001b[39m=\u001b[39mgene_pool)\n",
      "File \u001b[1;32mc:\\Users\\tedb0\\Documents\\Code\\Econ Code Reproduction\\Arifovic 01\\src\\model.py:164\u001b[0m, in \u001b[0;36mCurrencySubstitutionModel.evolve\u001b[1;34m(self)\u001b[0m\n\u001b[0;32m    160\u001b[0m \u001b[39mself\u001b[39m\u001b[39m.\u001b[39mga\u001b[39m.\u001b[39mset_evaluation_function(\u001b[39mself\u001b[39m\u001b[39m.\u001b[39mgene_evaluation_fn())\n\u001b[0;32m    161\u001b[0m \u001b[39mself\u001b[39m\u001b[39m.\u001b[39mga\u001b[39m.\u001b[39mregister_agents(\n\u001b[0;32m    162\u001b[0m     [agent\u001b[39m.\u001b[39mevaluable_gene \u001b[39mfor\u001b[39;00m agent \u001b[39min\u001b[39;00m \u001b[39mself\u001b[39m\u001b[39m.\u001b[39melders]\n\u001b[0;32m    163\u001b[0m )\n\u001b[1;32m--> 164\u001b[0m \u001b[39mreturn\u001b[39;00m \u001b[39mself\u001b[39;49m\u001b[39m.\u001b[39;49mga\u001b[39m.\u001b[39;49mevolve()\n",
      "File \u001b[1;32mc:\\Users\\tedb0\\Documents\\Code\\Econ Code Reproduction\\Arifovic 01\\src\\base\\GA.py:141\u001b[0m, in \u001b[0;36mBaseGeneticAlgorithm.evolve\u001b[1;34m(self)\u001b[0m\n\u001b[0;32m    139\u001b[0m \u001b[39mself\u001b[39m\u001b[39m.\u001b[39mreproduction_stage()\n\u001b[0;32m    140\u001b[0m \u001b[39mself\u001b[39m\u001b[39m.\u001b[39mcrossover_stage()\n\u001b[1;32m--> 141\u001b[0m \u001b[39mself\u001b[39;49m\u001b[39m.\u001b[39;49mmutation_stage()\n\u001b[0;32m    142\u001b[0m \u001b[39mself\u001b[39m\u001b[39m.\u001b[39melection_stage()\n\u001b[0;32m    144\u001b[0m \u001b[39mreturn\u001b[39;00m \u001b[39mself\u001b[39m\u001b[39m.\u001b[39mgene_pool\n",
      "File \u001b[1;32mc:\\Users\\tedb0\\Documents\\Code\\Econ Code Reproduction\\Arifovic 01\\src\\genetic.py:144\u001b[0m, in \u001b[0;36mAGeneticAlgorithm.mutation_stage\u001b[1;34m(self)\u001b[0m\n\u001b[0;32m    141\u001b[0m         mutated_offspring\u001b[39m.\u001b[39mappend(new_offspring)\n\u001b[0;32m    142\u001b[0m     \u001b[39mreturn\u001b[39;00m family[:\u001b[39m2\u001b[39m] \u001b[39m+\u001b[39m mutated_offspring\n\u001b[1;32m--> 144\u001b[0m \u001b[39mself\u001b[39m\u001b[39m.\u001b[39mfamilies \u001b[39m=\u001b[39m [mutate_family(fam) \u001b[39mfor\u001b[39;00m fam \u001b[39min\u001b[39;00m \u001b[39mself\u001b[39m\u001b[39m.\u001b[39mfamilies]\n\u001b[0;32m    146\u001b[0m \u001b[39mreturn\u001b[39;00m\n",
      "File \u001b[1;32mc:\\Users\\tedb0\\Documents\\Code\\Econ Code Reproduction\\Arifovic 01\\src\\genetic.py:144\u001b[0m, in \u001b[0;36m<listcomp>\u001b[1;34m(.0)\u001b[0m\n\u001b[0;32m    141\u001b[0m         mutated_offspring\u001b[39m.\u001b[39mappend(new_offspring)\n\u001b[0;32m    142\u001b[0m     \u001b[39mreturn\u001b[39;00m family[:\u001b[39m2\u001b[39m] \u001b[39m+\u001b[39m mutated_offspring\n\u001b[1;32m--> 144\u001b[0m \u001b[39mself\u001b[39m\u001b[39m.\u001b[39mfamilies \u001b[39m=\u001b[39m [mutate_family(fam) \u001b[39mfor\u001b[39;00m fam \u001b[39min\u001b[39;00m \u001b[39mself\u001b[39m\u001b[39m.\u001b[39mfamilies]\n\u001b[0;32m    146\u001b[0m \u001b[39mreturn\u001b[39;00m\n",
      "File \u001b[1;32mc:\\Users\\tedb0\\Documents\\Code\\Econ Code Reproduction\\Arifovic 01\\src\\genetic.py:140\u001b[0m, in \u001b[0;36mAGeneticAlgorithm.mutation_stage.<locals>.mutate_family\u001b[1;34m(family)\u001b[0m\n\u001b[0;32m    138\u001b[0m \u001b[39mfor\u001b[39;00m offspring \u001b[39min\u001b[39;00m family[\u001b[39m2\u001b[39m:] :\n\u001b[0;32m    139\u001b[0m     new_gene \u001b[39m=\u001b[39m offspring\u001b[39m.\u001b[39mgene\u001b[39m.\u001b[39mmutate() \u001b[39mif\u001b[39;00m random\u001b[39m.\u001b[39mrandom() \u001b[39m<\u001b[39m \u001b[39mself\u001b[39m\u001b[39m.\u001b[39mp_mut \u001b[39melse\u001b[39;00m offspring\u001b[39m.\u001b[39mgene\n\u001b[1;32m--> 140\u001b[0m     new_offspring \u001b[39m=\u001b[39m EvaluableGene(new_gene, \u001b[39mself\u001b[39;49m\u001b[39m.\u001b[39;49mevaluation_function(new_gene))\n\u001b[0;32m    141\u001b[0m     mutated_offspring\u001b[39m.\u001b[39mappend(new_offspring)\n\u001b[0;32m    142\u001b[0m \u001b[39mreturn\u001b[39;00m family[:\u001b[39m2\u001b[39m] \u001b[39m+\u001b[39m mutated_offspring\n",
      "File \u001b[1;32mc:\\Users\\tedb0\\Documents\\Code\\Econ Code Reproduction\\Arifovic 01\\src\\model.py:61\u001b[0m, in \u001b[0;36mCurrencySubstitutionModel.gene_evaluation_fn.<locals>.ev_fn\u001b[1;34m(gene)\u001b[0m\n\u001b[0;32m     57\u001b[0m \u001b[39mdef\u001b[39;00m \u001b[39mev_fn\u001b[39m(gene:BaseGene) \u001b[39m-\u001b[39m\u001b[39m>\u001b[39m \u001b[39mfloat\u001b[39m:\n\u001b[0;32m     59\u001b[0m     potential_agent \u001b[39m=\u001b[39m \u001b[39mself\u001b[39m\u001b[39m.\u001b[39mnew_agent(gene)\n\u001b[1;32m---> 61\u001b[0m     potential_agent\u001b[39m.\u001b[39;49mstep_through()\n\u001b[0;32m     62\u001b[0m \u001b[39m    \u001b[39m\u001b[39m\"\"\" The evaluable gene object should have the fitness by now\"\"\"\u001b[39;00m\n\u001b[0;32m     64\u001b[0m     \u001b[39mreturn\u001b[39;00m potential_agent\u001b[39m.\u001b[39mfitness\n",
      "File \u001b[1;32mc:\\Users\\tedb0\\Documents\\Code\\Econ Code Reproduction\\Arifovic 01\\src\\agents.py:53\u001b[0m, in \u001b[0;36mGA_Agent.step_through\u001b[1;34m(self)\u001b[0m\n\u001b[0;32m     51\u001b[0m \u001b[39m\u001b[39m\u001b[39m\"\"\" This is called only when a potential gene is needed to evaluate its fitness under the current economy \"\"\"\u001b[39;00m\n\u001b[0;32m     52\u001b[0m \u001b[39mself\u001b[39m\u001b[39m.\u001b[39myoung_step()\n\u001b[1;32m---> 53\u001b[0m \u001b[39mself\u001b[39;49m\u001b[39m.\u001b[39;49mold_step()\n",
      "File \u001b[1;32mc:\\Users\\tedb0\\Documents\\Code\\Econ Code Reproduction\\Arifovic 01\\src\\agents.py:80\u001b[0m, in \u001b[0;36mGA_Agent.old_step\u001b[1;34m(self)\u001b[0m\n\u001b[0;32m     75\u001b[0m \u001b[39m# use up all the money to consume\u001b[39;00m\n\u001b[0;32m     76\u001b[0m \u001b[39mself\u001b[39m\u001b[39m.\u001b[39mconsumption_2 \u001b[39m=\u001b[39m \u001b[39mself\u001b[39m\u001b[39m.\u001b[39mcurrency_1_holding \u001b[39m/\u001b[39m price_currency_1 \u001b[39m+\u001b[39m \\\n\u001b[0;32m     77\u001b[0m                         \u001b[39mself\u001b[39m\u001b[39m.\u001b[39mcurrency_2_holding \u001b[39m/\u001b[39m price_currency_2\n\u001b[1;32m---> 80\u001b[0m \u001b[39mself\u001b[39m\u001b[39m.\u001b[39mevaluable_gene\u001b[39m.\u001b[39mfitness \u001b[39m=\u001b[39m  \u001b[39mself\u001b[39;49m\u001b[39m.\u001b[39;49m_evaluate()\n",
      "File \u001b[1;32mc:\\Users\\tedb0\\Documents\\Code\\Econ Code Reproduction\\Arifovic 01\\src\\agents.py:94\u001b[0m, in \u001b[0;36mGA_Agent._evaluate\u001b[1;34m(self)\u001b[0m\n\u001b[0;32m     92\u001b[0m \u001b[39mprint\u001b[39m(\u001b[39mself\u001b[39m\u001b[39m.\u001b[39mconsumption_1, \u001b[39mself\u001b[39m\u001b[39m.\u001b[39mconsumption_2)\n\u001b[0;32m     93\u001b[0m \u001b[39mprint\u001b[39m(\u001b[39mself\u001b[39m\u001b[39m.\u001b[39mevaluable_gene\u001b[39m.\u001b[39mgene\u001b[39m.\u001b[39mstring)\n\u001b[1;32m---> 94\u001b[0m \u001b[39mraise\u001b[39;00m \u001b[39mValueError\u001b[39;00m(\u001b[39mf\u001b[39m\u001b[39m'\u001b[39m\u001b[39mConsumption cannot take log.\u001b[39m\u001b[39m'\u001b[39m)\n",
      "\u001b[1;31mValueError\u001b[0m: Consumption cannot take log."
     ]
    }
   ],
   "source": [
    "from tqdm import tqdm\n",
    "\n",
    "\n",
    "for _ in tqdm(range(1000)):\n",
    "    model.step()"
   ]
  },
  {
   "cell_type": "code",
   "execution_count": null,
   "metadata": {},
   "outputs": [],
   "source": []
  }
 ],
 "metadata": {
  "kernelspec": {
   "display_name": "mesa",
   "language": "python",
   "name": "python3"
  },
  "language_info": {
   "codemirror_mode": {
    "name": "ipython",
    "version": 3
   },
   "file_extension": ".py",
   "mimetype": "text/x-python",
   "name": "python",
   "nbconvert_exporter": "python",
   "pygments_lexer": "ipython3",
   "version": "3.8.13"
  },
  "orig_nbformat": 4,
  "vscode": {
   "interpreter": {
    "hash": "6d99b58bf08b42ea917d80edb246878b8ac82ec1d45c1c04922147cbb3514f4b"
   }
  }
 },
 "nbformat": 4,
 "nbformat_minor": 2
}
