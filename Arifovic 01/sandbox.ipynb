{
 "cells": [
  {
   "cell_type": "code",
   "execution_count": 14,
   "metadata": {},
   "outputs": [],
   "source": [
    "import numpy as np\n",
    "import random\n",
    "from src.genetic import AGene, EvaluableGene, AGeneticAlgorithm"
   ]
  },
  {
   "cell_type": "code",
   "execution_count": 15,
   "metadata": {},
   "outputs": [],
   "source": [
    "eg1 = EvaluableGene(AGene(), 20)\n",
    "eg2 = EvaluableGene(AGene(), 10)"
   ]
  },
  {
   "cell_type": "code",
   "execution_count": 16,
   "metadata": {},
   "outputs": [
    {
     "data": {
      "text/plain": [
       "EvaluableGene(gene=<src.genetic.AGene object at 0x0000019F4A8C4AC0>, fitness=20)"
      ]
     },
     "execution_count": 16,
     "metadata": {},
     "output_type": "execute_result"
    }
   ],
   "source": [
    "max([eg1, eg2])"
   ]
  },
  {
   "cell_type": "code",
   "execution_count": 17,
   "metadata": {},
   "outputs": [],
   "source": [
    "def ga_sample():\n",
    "\n",
    "    agent_to_register = [EvaluableGene(AGene(), random.randint(1,100)) for _ in range(10)]\n",
    "    ga = AGeneticAlgorithm() \n",
    "\n",
    "    ga.register_validation_fn(AGene.validate)\n",
    "\n",
    "    ga.register_agents(agent_to_register)\n",
    "\n",
    "    return ga"
   ]
  },
  {
   "cell_type": "code",
   "execution_count": 18,
   "metadata": {},
   "outputs": [],
   "source": [
    "ga = ga_sample()"
   ]
  },
  {
   "cell_type": "code",
   "execution_count": 22,
   "metadata": {},
   "outputs": [
    {
     "name": "stderr",
     "output_type": "stream",
     "text": [
      "Traceback (most recent call last):\n",
      "  File \"_pydevd_bundle/pydevd_cython.pyx\", line 1078, in _pydevd_bundle.pydevd_cython.PyDBFrame.trace_dispatch\n",
      "  File \"_pydevd_bundle/pydevd_cython.pyx\", line 297, in _pydevd_bundle.pydevd_cython.PyDBFrame.do_wait_suspend\n",
      "  File \"c:\\Users\\tedb0\\.conda\\envs\\mesa\\lib\\site-packages\\debugpy\\_vendored\\pydevd\\pydevd.py\", line 1976, in do_wait_suspend\n",
      "    keep_suspended = self._do_wait_suspend(thread, frame, event, arg, suspend_type, from_this_thread, frames_tracker)\n",
      "  File \"c:\\Users\\tedb0\\.conda\\envs\\mesa\\lib\\site-packages\\debugpy\\_vendored\\pydevd\\pydevd.py\", line 2011, in _do_wait_suspend\n",
      "    time.sleep(0.01)\n",
      "KeyboardInterrupt\n"
     ]
    },
    {
     "ename": "KeyboardInterrupt",
     "evalue": "",
     "output_type": "error",
     "traceback": [
      "\u001b[1;31m---------------------------------------------------------------------------\u001b[0m",
      "\u001b[1;31mKeyboardInterrupt\u001b[0m                         Traceback (most recent call last)",
      "Cell \u001b[1;32mIn[22], line 7\u001b[0m\n\u001b[0;32m      3\u001b[0m ga\u001b[39m.\u001b[39mregister_validation_fn(AGene\u001b[39m.\u001b[39mvalidate)\n\u001b[0;32m      5\u001b[0m agents_to_register \u001b[39m=\u001b[39m [EvaluableGene(AGene()) \u001b[39mfor\u001b[39;00m _ \u001b[39min\u001b[39;00m \u001b[39mrange\u001b[39m(\u001b[39m20\u001b[39m)]\n\u001b[1;32m----> 7\u001b[0m ga\u001b[39m.\u001b[39mregister_agents(agents_to_register)\n\u001b[0;32m     10\u001b[0m ga\u001b[39m.\u001b[39mremove_agents(agents_to_register[\u001b[39m-\u001b[39m\u001b[39m3\u001b[39m:])\n\u001b[0;32m     12\u001b[0m \u001b[39massert\u001b[39;00m \u001b[39mlen\u001b[39m(ga\u001b[39m.\u001b[39magents) \u001b[39m==\u001b[39m \u001b[39m17\u001b[39m\n",
      "Cell \u001b[1;32mIn[22], line 7\u001b[0m\n\u001b[0;32m      3\u001b[0m ga\u001b[39m.\u001b[39mregister_validation_fn(AGene\u001b[39m.\u001b[39mvalidate)\n\u001b[0;32m      5\u001b[0m agents_to_register \u001b[39m=\u001b[39m [EvaluableGene(AGene()) \u001b[39mfor\u001b[39;00m _ \u001b[39min\u001b[39;00m \u001b[39mrange\u001b[39m(\u001b[39m20\u001b[39m)]\n\u001b[1;32m----> 7\u001b[0m ga\u001b[39m.\u001b[39mregister_agents(agents_to_register)\n\u001b[0;32m     10\u001b[0m ga\u001b[39m.\u001b[39mremove_agents(agents_to_register[\u001b[39m-\u001b[39m\u001b[39m3\u001b[39m:])\n\u001b[0;32m     12\u001b[0m \u001b[39massert\u001b[39;00m \u001b[39mlen\u001b[39m(ga\u001b[39m.\u001b[39magents) \u001b[39m==\u001b[39m \u001b[39m17\u001b[39m\n",
      "File \u001b[1;32m_pydevd_bundle/pydevd_cython.pyx:1363\u001b[0m, in \u001b[0;36m_pydevd_bundle.pydevd_cython.SafeCallWrapper.__call__\u001b[1;34m()\u001b[0m\n",
      "File \u001b[1;32m_pydevd_bundle/pydevd_cython.pyx:662\u001b[0m, in \u001b[0;36m_pydevd_bundle.pydevd_cython.PyDBFrame.trace_dispatch\u001b[1;34m()\u001b[0m\n",
      "File \u001b[1;32m_pydevd_bundle/pydevd_cython.pyx:1087\u001b[0m, in \u001b[0;36m_pydevd_bundle.pydevd_cython.PyDBFrame.trace_dispatch\u001b[1;34m()\u001b[0m\n",
      "File \u001b[1;32m_pydevd_bundle/pydevd_cython.pyx:1078\u001b[0m, in \u001b[0;36m_pydevd_bundle.pydevd_cython.PyDBFrame.trace_dispatch\u001b[1;34m()\u001b[0m\n",
      "File \u001b[1;32m_pydevd_bundle/pydevd_cython.pyx:297\u001b[0m, in \u001b[0;36m_pydevd_bundle.pydevd_cython.PyDBFrame.do_wait_suspend\u001b[1;34m()\u001b[0m\n",
      "File \u001b[1;32mc:\\Users\\tedb0\\.conda\\envs\\mesa\\lib\\site-packages\\debugpy\\_vendored\\pydevd\\pydevd.py:1976\u001b[0m, in \u001b[0;36mPyDB.do_wait_suspend\u001b[1;34m(self, thread, frame, event, arg, exception_type)\u001b[0m\n\u001b[0;32m   1973\u001b[0m             from_this_thread\u001b[39m.\u001b[39mappend(frame_custom_thread_id)\n\u001b[0;32m   1975\u001b[0m     \u001b[39mwith\u001b[39;00m \u001b[39mself\u001b[39m\u001b[39m.\u001b[39m_threads_suspended_single_notification\u001b[39m.\u001b[39mnotify_thread_suspended(thread_id, stop_reason):\n\u001b[1;32m-> 1976\u001b[0m         keep_suspended \u001b[39m=\u001b[39m \u001b[39mself\u001b[39;49m\u001b[39m.\u001b[39;49m_do_wait_suspend(thread, frame, event, arg, suspend_type, from_this_thread, frames_tracker)\n\u001b[0;32m   1978\u001b[0m frames_list \u001b[39m=\u001b[39m \u001b[39mNone\u001b[39;00m\n\u001b[0;32m   1980\u001b[0m \u001b[39mif\u001b[39;00m keep_suspended:\n\u001b[0;32m   1981\u001b[0m     \u001b[39m# This means that we should pause again after a set next statement.\u001b[39;00m\n",
      "File \u001b[1;32mc:\\Users\\tedb0\\.conda\\envs\\mesa\\lib\\site-packages\\debugpy\\_vendored\\pydevd\\pydevd.py:2011\u001b[0m, in \u001b[0;36mPyDB._do_wait_suspend\u001b[1;34m(self, thread, frame, event, arg, suspend_type, from_this_thread, frames_tracker)\u001b[0m\n\u001b[0;32m   2008\u001b[0m         \u001b[39mself\u001b[39m\u001b[39m.\u001b[39m_call_mpl_hook()\n\u001b[0;32m   2010\u001b[0m     \u001b[39mself\u001b[39m\u001b[39m.\u001b[39mprocess_internal_commands()\n\u001b[1;32m-> 2011\u001b[0m     time\u001b[39m.\u001b[39;49msleep(\u001b[39m0.01\u001b[39;49m)\n\u001b[0;32m   2013\u001b[0m \u001b[39mself\u001b[39m\u001b[39m.\u001b[39mcancel_async_evaluation(get_current_thread_id(thread), \u001b[39mstr\u001b[39m(\u001b[39mid\u001b[39m(frame)))\n\u001b[0;32m   2015\u001b[0m \u001b[39m# process any stepping instructions\u001b[39;00m\n",
      "\u001b[1;31mKeyboardInterrupt\u001b[0m: "
     ]
    }
   ],
   "source": [
    "ga = AGeneticAlgorithm() \n",
    "\n",
    "ga.register_validation_fn(AGene.validate)\n",
    "\n",
    "agents_to_register = [EvaluableGene(AGene()) for _ in range(20)]\n",
    "\n",
    "ga.register_agents(agents_to_register)\n",
    "\n",
    "\n",
    "ga.remove_agents(agents_to_register[-3:])\n",
    "\n",
    "assert len(ga.agents) == 17\n",
    "assert agents_to_register[-1] not in ga.agents\n",
    "assert agents_to_register[0] in ga.agents"
   ]
  },
  {
   "cell_type": "code",
   "execution_count": 10,
   "metadata": {},
   "outputs": [
    {
     "data": {
      "text/plain": [
       "[EvaluableGene(gene=<src.genetic.AGene object at 0x0000019F4A8C4790>, fitness=34),\n",
       " EvaluableGene(gene=<src.genetic.AGene object at 0x0000019F4A8BE3A0>, fitness=85),\n",
       " EvaluableGene(gene=<src.genetic.AGene object at 0x0000019F4A8BE4F0>, fitness=65),\n",
       " EvaluableGene(gene=<src.genetic.AGene object at 0x0000019F4A92A1F0>, fitness=100),\n",
       " EvaluableGene(gene=<src.genetic.AGene object at 0x0000019F4A92A280>, fitness=13),\n",
       " EvaluableGene(gene=<src.genetic.AGene object at 0x0000019F2B25CEE0>, fitness=77),\n",
       " EvaluableGene(gene=<src.genetic.AGene object at 0x0000019F4A925670>, fitness=4),\n",
       " EvaluableGene(gene=<src.genetic.AGene object at 0x0000019F2B258C10>, fitness=17),\n",
       " EvaluableGene(gene=<src.genetic.AGene object at 0x0000019F2B2583A0>, fitness=27),\n",
       " EvaluableGene(gene=<src.genetic.AGene object at 0x0000019F4A8EEE80>, fitness=30)]"
      ]
     },
     "execution_count": 10,
     "metadata": {},
     "output_type": "execute_result"
    }
   ],
   "source": [
    "ga.agents"
   ]
  },
  {
   "cell_type": "code",
   "execution_count": 11,
   "metadata": {},
   "outputs": [],
   "source": [
    "ga.reproduction_stage()\n",
    "ga.crossover_stage()"
   ]
  },
  {
   "cell_type": "code",
   "execution_count": 13,
   "metadata": {},
   "outputs": [
    {
     "data": {
      "text/plain": [
       "5"
      ]
     },
     "execution_count": 13,
     "metadata": {},
     "output_type": "execute_result"
    }
   ],
   "source": [
    "len(ga.families)"
   ]
  },
  {
   "cell_type": "code",
   "execution_count": 11,
   "metadata": {},
   "outputs": [],
   "source": [
    "ga.winner_agents.remove(ga.agents[1])"
   ]
  },
  {
   "cell_type": "code",
   "execution_count": 14,
   "metadata": {},
   "outputs": [
    {
     "data": {
      "text/plain": [
       "[EvaluableGene(gene=<src.genetic.AGene object at 0x000001E87FA0AAC0>, fitness=6),\n",
       " EvaluableGene(gene=<src.genetic.AGene object at 0x000001E87FA0AFD0>, fitness=7),\n",
       " EvaluableGene(gene=<src.genetic.AGene object at 0x000001E87FA0A880>, fitness=9),\n",
       " EvaluableGene(gene=<src.genetic.AGene object at 0x000001E87FA0A520>, fitness=7),\n",
       " EvaluableGene(gene=<src.genetic.AGene object at 0x000001E87FA0A880>, fitness=9),\n",
       " EvaluableGene(gene=<src.genetic.AGene object at 0x000001E864593CD0>, fitness=9),\n",
       " EvaluableGene(gene=<src.genetic.AGene object at 0x000001E87FA0A880>, fitness=9),\n",
       " EvaluableGene(gene=<src.genetic.AGene object at 0x000001E87FA0AA60>, fitness=5),\n",
       " EvaluableGene(gene=<src.genetic.AGene object at 0x000001E864593B80>, fitness=5)]"
      ]
     },
     "execution_count": 14,
     "metadata": {},
     "output_type": "execute_result"
    }
   ],
   "source": [
    "ga.winner_agents"
   ]
  },
  {
   "cell_type": "code",
   "execution_count": 15,
   "metadata": {},
   "outputs": [
    {
     "data": {
      "text/plain": [
       "15"
      ]
     },
     "execution_count": 15,
     "metadata": {},
     "output_type": "execute_result"
    }
   ],
   "source": [
    "31//2"
   ]
  },
  {
   "cell_type": "code",
   "execution_count": 24,
   "metadata": {},
   "outputs": [],
   "source": [
    "from dataclasses import dataclass, field\n",
    "from random import randint, random\n",
    "\n",
    "class CustomObj:\n",
    "    def __init__(self, id) -> None:\n",
    "        self.id = id\n",
    "\n",
    "@dataclass(order=True)\n",
    "class TestDC:\n",
    "    a: CustomObj = field(compare=False)\n",
    "    b: int = field(compare=True)\n",
    "\n",
    "    \n",
    "\n",
    "test_dcs = [TestDC(CustomObj(randint(0,100)), random()) for _ in range(10) ]"
   ]
  },
  {
   "cell_type": "code",
   "execution_count": 25,
   "metadata": {},
   "outputs": [
    {
     "data": {
      "text/plain": [
       "[TestDC(a=<__main__.CustomObj object at 0x0000019F4B249A30>, b=0.18427918926528253),\n",
       " TestDC(a=<__main__.CustomObj object at 0x0000019F4B249F70>, b=0.8393381696620016),\n",
       " TestDC(a=<__main__.CustomObj object at 0x0000019F4B249D60>, b=0.23160324005215593),\n",
       " TestDC(a=<__main__.CustomObj object at 0x0000019F4B249A90>, b=0.6554237597628596),\n",
       " TestDC(a=<__main__.CustomObj object at 0x0000019F4B2499A0>, b=0.6274036660831854),\n",
       " TestDC(a=<__main__.CustomObj object at 0x0000019F4B249E80>, b=0.4118567006885826),\n",
       " TestDC(a=<__main__.CustomObj object at 0x0000019F4B2498B0>, b=0.7327605687586113),\n",
       " TestDC(a=<__main__.CustomObj object at 0x0000019F4B249EE0>, b=0.8240457880899785),\n",
       " TestDC(a=<__main__.CustomObj object at 0x0000019F4B249700>, b=0.6785958332571583),\n",
       " TestDC(a=<__main__.CustomObj object at 0x0000019F4B249760>, b=0.5193304726526866)]"
      ]
     },
     "execution_count": 25,
     "metadata": {},
     "output_type": "execute_result"
    }
   ],
   "source": [
    "test_dcs.remove"
   ]
  },
  {
   "cell_type": "code",
   "execution_count": null,
   "metadata": {},
   "outputs": [],
   "source": []
  }
 ],
 "metadata": {
  "kernelspec": {
   "display_name": "mesa",
   "language": "python",
   "name": "python3"
  },
  "language_info": {
   "codemirror_mode": {
    "name": "ipython",
    "version": 3
   },
   "file_extension": ".py",
   "mimetype": "text/x-python",
   "name": "python",
   "nbconvert_exporter": "python",
   "pygments_lexer": "ipython3",
   "version": "3.8.13"
  },
  "orig_nbformat": 4,
  "vscode": {
   "interpreter": {
    "hash": "6d99b58bf08b42ea917d80edb246878b8ac82ec1d45c1c04922147cbb3514f4b"
   }
  }
 },
 "nbformat": 4,
 "nbformat_minor": 2
}
