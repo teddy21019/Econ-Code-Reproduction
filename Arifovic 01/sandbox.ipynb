{
 "cells": [
  {
   "cell_type": "code",
   "execution_count": 1,
   "metadata": {},
   "outputs": [
    {
     "ename": "ModuleNotFoundError",
     "evalue": "No module named 'pytest'",
     "output_type": "error",
     "traceback": [
      "\u001b[1;31m---------------------------------------------------------------------------\u001b[0m",
      "\u001b[1;31mModuleNotFoundError\u001b[0m                       Traceback (most recent call last)",
      "Cell \u001b[1;32mIn[1], line 3\u001b[0m\n\u001b[0;32m      1\u001b[0m \u001b[39mimport\u001b[39;00m \u001b[39mnumpy\u001b[39;00m \u001b[39mas\u001b[39;00m \u001b[39mnp\u001b[39;00m\n\u001b[0;32m      2\u001b[0m \u001b[39mimport\u001b[39;00m \u001b[39mrandom\u001b[39;00m\n\u001b[1;32m----> 3\u001b[0m \u001b[39mfrom\u001b[39;00m \u001b[39msrc\u001b[39;00m\u001b[39m.\u001b[39;00m\u001b[39mgenetic\u001b[39;00m \u001b[39mimport\u001b[39;00m AGene, EvaluableGene, AGeneticAlgorithm\n",
      "File \u001b[1;32mc:\\Users\\tedb0\\Documents\\Code\\Econ Code Reproduction\\Arifovic 01\\src\\genetic.py:4\u001b[0m\n\u001b[0;32m      1\u001b[0m \u001b[39mimport\u001b[39;00m \u001b[39mrandom\u001b[39;00m\n\u001b[0;32m      2\u001b[0m \u001b[39mfrom\u001b[39;00m \u001b[39mtyping\u001b[39;00m \u001b[39mimport\u001b[39;00m Callable, Tuple, Union, List\n\u001b[1;32m----> 4\u001b[0m \u001b[39mimport\u001b[39;00m \u001b[39mpytest\u001b[39;00m\n\u001b[0;32m      6\u001b[0m \u001b[39mfrom\u001b[39;00m \u001b[39msrc\u001b[39;00m\u001b[39m.\u001b[39;00m\u001b[39mbase\u001b[39;00m\u001b[39m.\u001b[39;00m\u001b[39mGA\u001b[39;00m \u001b[39mimport\u001b[39;00m BaseGene, BaseGeneticAlgorithm, EvaluableGene\n\u001b[0;32m      7\u001b[0m \u001b[39mimport\u001b[39;00m \u001b[39mnumpy\u001b[39;00m \u001b[39mas\u001b[39;00m \u001b[39mnp\u001b[39;00m\n",
      "\u001b[1;31mModuleNotFoundError\u001b[0m: No module named 'pytest'"
     ]
    }
   ],
   "source": [
    "import numpy as np\n",
    "import random\n",
    "from src.genetic import AGene, EvaluableGene, AGeneticAlgorithm"
   ]
  },
  {
   "cell_type": "code",
   "execution_count": 56,
   "metadata": {},
   "outputs": [],
   "source": [
    "from collections import deque, OrderedDict\n",
    "from typing import Deque, Dict\n",
    "\n",
    "from mesa import Agent, Model\n",
    "\n",
    "m = Model()\n",
    "\n",
    "\n",
    "Generation = Deque[Dict[int, Agent]]\n",
    "\n",
    "generations : Generation  = deque(maxlen=2)"
   ]
  },
  {
   "cell_type": "code",
   "execution_count": 1,
   "metadata": {},
   "outputs": [
    {
     "ename": "ImportError",
     "evalue": "cannot import name 'Self' from 'typing' (c:\\Users\\tedb0\\.conda\\envs\\mesa\\lib\\typing.py)",
     "output_type": "error",
     "traceback": [
      "\u001b[1;31m---------------------------------------------------------------------------\u001b[0m",
      "\u001b[1;31mImportError\u001b[0m                               Traceback (most recent call last)",
      "Cell \u001b[1;32mIn[1], line 1\u001b[0m\n\u001b[1;32m----> 1\u001b[0m \u001b[39mfrom\u001b[39;00m \u001b[39mtyping\u001b[39;00m \u001b[39mimport\u001b[39;00m Callable, Self, Type\n\u001b[0;32m      4\u001b[0m \u001b[39mclass\u001b[39;00m \u001b[39mBaseC\u001b[39;00m:\n\u001b[0;32m      5\u001b[0m     \u001b[39mdef\u001b[39;00m \u001b[39m__init__\u001b[39m(\u001b[39mself\u001b[39m) \u001b[39m-\u001b[39m\u001b[39m>\u001b[39m \u001b[39mNone\u001b[39;00m:\n",
      "\u001b[1;31mImportError\u001b[0m: cannot import name 'Self' from 'typing' (c:\\Users\\tedb0\\.conda\\envs\\mesa\\lib\\typing.py)"
     ]
    }
   ],
   "source": [
    "from typing import Callable, Self, Type\n",
    "\n",
    "\n",
    "class BaseC:\n",
    "    def __init__(self) -> None:\n",
    "        pass\n",
    "\n",
    "    \n",
    "class InheritC(BaseC):\n",
    "    def __init__(self) -> None:\n",
    "        super().__init__()\n",
    "\n",
    "    @classmethod\n",
    "    def fn(cls, c:'InheritC') ->bool:\n",
    "        return False\n",
    "\n",
    "class AggrC:\n",
    "    def register_fn(self, fn: Callable[[Type[BaseC]], bool])-> None:\n",
    "\n",
    "        self.r_fn = fn\n",
    "\n",
    "ac = AggrC()\n",
    "ic = InheritC()\n",
    "ac.register_fn(ic.fn)"
   ]
  }
 ],
 "metadata": {
  "kernelspec": {
   "display_name": "mesa",
   "language": "python",
   "name": "python3"
  },
  "language_info": {
   "codemirror_mode": {
    "name": "ipython",
    "version": 3
   },
   "file_extension": ".py",
   "mimetype": "text/x-python",
   "name": "python",
   "nbconvert_exporter": "python",
   "pygments_lexer": "ipython3",
   "version": "3.8.13"
  },
  "orig_nbformat": 4,
  "vscode": {
   "interpreter": {
    "hash": "6d99b58bf08b42ea917d80edb246878b8ac82ec1d45c1c04922147cbb3514f4b"
   }
  }
 },
 "nbformat": 4,
 "nbformat_minor": 2
}
